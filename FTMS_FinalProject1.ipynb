{
  "nbformat": 4,
  "nbformat_minor": 0,
  "metadata": {
    "colab": {
      "provenance": []
    },
    "kernelspec": {
      "name": "python3",
      "display_name": "Python 3"
    },
    "language_info": {
      "name": "python"
    }
  },
  "cells": [
    {
      "cell_type": "code",
      "execution_count": null,
      "metadata": {
        "colab": {
          "base_uri": "https://localhost:8080/"
        },
        "id": "XdW6KhSsoaYt",
        "outputId": "5decdb9e-57ba-4287-dae8-f913df57038a"
      },
      "outputs": [
        {
          "output_type": "stream",
          "name": "stdout",
          "text": [
            "Requirement already satisfied: opencv-python in /usr/local/lib/python3.10/dist-packages (4.8.0.76)\n",
            "Requirement already satisfied: numpy>=1.21.2 in /usr/local/lib/python3.10/dist-packages (from opencv-python) (1.23.5)\n"
          ]
        }
      ],
      "source": [
        "pip  install opencv-python"
      ]
    },
    {
      "cell_type": "code",
      "source": [
        "#Download and upload the test.png file in your local Colab directory\n",
        "from google.colab import files\n",
        "import urllib.request\n",
        "\n",
        "url = 'https://istitutocomprensivo1asti.edu.it/allegati/news/295-2.jpg'\n",
        "file_name = 'test.png'\n",
        "\n",
        "urllib.request.urlretrieve(url, file_name)\n",
        "\n",
        "files.download(file_name)"
      ],
      "metadata": {
        "colab": {
          "base_uri": "https://localhost:8080/",
          "height": 17
        },
        "id": "FwI38aexCy3k",
        "outputId": "5049999c-48a4-4df4-fbc3-a729f81d0294"
      },
      "execution_count": 1,
      "outputs": [
        {
          "output_type": "display_data",
          "data": {
            "text/plain": [
              "<IPython.core.display.Javascript object>"
            ],
            "application/javascript": [
              "\n",
              "    async function download(id, filename, size) {\n",
              "      if (!google.colab.kernel.accessAllowed) {\n",
              "        return;\n",
              "      }\n",
              "      const div = document.createElement('div');\n",
              "      const label = document.createElement('label');\n",
              "      label.textContent = `Downloading \"${filename}\": `;\n",
              "      div.appendChild(label);\n",
              "      const progress = document.createElement('progress');\n",
              "      progress.max = size;\n",
              "      div.appendChild(progress);\n",
              "      document.body.appendChild(div);\n",
              "\n",
              "      const buffers = [];\n",
              "      let downloaded = 0;\n",
              "\n",
              "      const channel = await google.colab.kernel.comms.open(id);\n",
              "      // Send a message to notify the kernel that we're ready.\n",
              "      channel.send({})\n",
              "\n",
              "      for await (const message of channel.messages) {\n",
              "        // Send a message to notify the kernel that we're ready.\n",
              "        channel.send({})\n",
              "        if (message.buffers) {\n",
              "          for (const buffer of message.buffers) {\n",
              "            buffers.push(buffer);\n",
              "            downloaded += buffer.byteLength;\n",
              "            progress.value = downloaded;\n",
              "          }\n",
              "        }\n",
              "      }\n",
              "      const blob = new Blob(buffers, {type: 'application/binary'});\n",
              "      const a = document.createElement('a');\n",
              "      a.href = window.URL.createObjectURL(blob);\n",
              "      a.download = filename;\n",
              "      div.appendChild(a);\n",
              "      a.click();\n",
              "      div.remove();\n",
              "    }\n",
              "  "
            ]
          },
          "metadata": {}
        },
        {
          "output_type": "display_data",
          "data": {
            "text/plain": [
              "<IPython.core.display.Javascript object>"
            ],
            "application/javascript": [
              "download(\"download_4fce20e5-cf43-4f35-9e56-7c4efedc7ede\", \"test.png\", 48836)"
            ]
          },
          "metadata": {}
        }
      ]
    },
    {
      "cell_type": "code",
      "source": [
        "import cv2\n",
        "import numpy as np"
      ],
      "metadata": {
        "id": "plZbLF_9osuv"
      },
      "execution_count": 2,
      "outputs": []
    },
    {
      "cell_type": "code",
      "source": [
        "def encode(image_path, output_path, qp):\n",
        "    # Read the input image\n",
        "    img = cv2.imread(image_path, cv2.IMREAD_COLOR)\n",
        "\n",
        "    # Convert the image to YCbCr color space\n",
        "    img_ycbcr = cv2.cvtColor(img, cv2.COLOR_BGR2YCrCb)\n",
        "\n",
        "    # Split the YCbCr image into Y, Cb, and Cr components\n",
        "    y, cb, cr = cv2.split(img_ycbcr)\n",
        "\n",
        "    # Apply Discrete Cosine Transform (DCT) to each component\n",
        "    y_dct = cv2.dct(np.float32(y))\n",
        "    cb_dct = cv2.dct(np.float32(cb))\n",
        "    cr_dct = cv2.dct(np.float32(cr))\n",
        "\n",
        "    # Quantization\n",
        "    y_quantized = np.round(y_dct / (qp * np.ones_like(y_dct)))\n",
        "    cb_quantized = np.round(cb_dct / (qp * np.ones_like(cb_dct)))\n",
        "    cr_quantized = np.round(cr_dct / (qp * np.ones_like(cr_dct)))\n",
        "\n",
        "    # Save the quantized data to a binary file\n",
        "    with open(output_path, 'wb') as file:\n",
        "        np.save(file, y_quantized)\n",
        "        np.save(file, cb_quantized)\n",
        "        np.save(file, cr_quantized)"
      ],
      "metadata": {
        "id": "Fk9l-ObnoxPx"
      },
      "execution_count": 3,
      "outputs": []
    },
    {
      "cell_type": "code",
      "source": [
        "def decode(input_path, output_path, qp):\n",
        "    # Load the quantized data from the binary file\n",
        "    with open(input_path, 'rb') as file:\n",
        "        y_quantized = np.load(file)\n",
        "        cb_quantized = np.load(file)\n",
        "        cr_quantized = np.load(file)\n",
        "\n",
        "    # Dequantization\n",
        "    y_dct = y_quantized * (qp * np.ones_like(y_quantized))\n",
        "    cb_dct = cb_quantized * (qp * np.ones_like(cb_quantized))\n",
        "    cr_dct = cr_quantized * (qp * np.ones_like(cr_quantized))\n",
        "\n",
        "    # Apply Inverse Discrete Cosine Transform (IDCT)\n",
        "    y_reconstructed = cv2.idct(np.float32(y_dct))\n",
        "    cb_reconstructed = cv2.idct(np.float32(cb_dct))\n",
        "    cr_reconstructed = cv2.idct(np.float32(cr_dct))\n",
        "\n",
        "    # Merge the Y, Cb, Cr components\n",
        "    img_reconstructed_ycbcr = cv2.merge([y_reconstructed, cb_reconstructed, cr_reconstructed])\n",
        "\n",
        "    # Convert back to BGR color space\n",
        "    img_reconstructed = cv2.cvtColor(img_reconstructed_ycbcr, cv2.COLOR_YCrCb2BGR)\n",
        "\n",
        "    # Save the reconstructed image\n",
        "    cv2.imwrite(output_path, img_reconstructed)"
      ],
      "metadata": {
        "id": "cqHTPhyMo04b"
      },
      "execution_count": 4,
      "outputs": []
    },
    {
      "cell_type": "code",
      "source": [
        "def calculate_psnr(original, compressed):\n",
        "    mse = np.mean((original - compressed) ** 2)\n",
        "    max_pixel = 255.0\n",
        "    psnr = 20 * np.log10(max_pixel / np.sqrt(mse))\n",
        "    return psnr"
      ],
      "metadata": {
        "id": "scCIJw6Xo3mq"
      },
      "execution_count": 5,
      "outputs": []
    },
    {
      "cell_type": "code",
      "source": [
        "# Clarify the path of the files\n",
        "image_path = '/content/test.png'\n",
        "compressed_path = '/content/test.bin'\n",
        "reconstructed_path = '/content/rec.png'"
      ],
      "metadata": {
        "id": "7tOD3bv_o6E2"
      },
      "execution_count": 6,
      "outputs": []
    },
    {
      "cell_type": "code",
      "source": [
        "# Adjust the compression rate (QP)\n",
        "compression_rate = 10"
      ],
      "metadata": {
        "id": "vEgkErE-p6aV"
      },
      "execution_count": 7,
      "outputs": []
    },
    {
      "cell_type": "code",
      "source": [
        "# Encoding\n",
        "encode(image_path, compressed_path, compression_rate)"
      ],
      "metadata": {
        "id": "fYjqFTqlp94i"
      },
      "execution_count": 8,
      "outputs": []
    },
    {
      "cell_type": "code",
      "source": [
        "# Decoding\n",
        "decode(compressed_path, reconstructed_path, compression_rate)"
      ],
      "metadata": {
        "id": "PsgeN8nzqBFh"
      },
      "execution_count": 9,
      "outputs": []
    },
    {
      "cell_type": "code",
      "source": [
        "# Calculate PSNR\n",
        "original_image = cv2.imread(image_path, cv2.IMREAD_COLOR)\n",
        "reconstructed_image = cv2.imread(reconstructed_path, cv2.IMREAD_COLOR)"
      ],
      "metadata": {
        "id": "DfmCPzHOqDi-"
      },
      "execution_count": 10,
      "outputs": []
    },
    {
      "cell_type": "code",
      "source": [
        "# Show the PSNR\n",
        "psnr = calculate_psnr(original_image, reconstructed_image)\n",
        "print(f'Peak Signal-to-Noise Ratio (PSNR): {psnr} dB')"
      ],
      "metadata": {
        "colab": {
          "base_uri": "https://localhost:8080/"
        },
        "id": "GvaP6ArcqF39",
        "outputId": "8026c569-ba90-46ac-8020-a64292f21712"
      },
      "execution_count": 11,
      "outputs": [
        {
          "output_type": "stream",
          "name": "stdout",
          "text": [
            "Peak Signal-to-Noise Ratio (PSNR): 28.17096460093576 dB\n"
          ]
        }
      ]
    }
  ]
}